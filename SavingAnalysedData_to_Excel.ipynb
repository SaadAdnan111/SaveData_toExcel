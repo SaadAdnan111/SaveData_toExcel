{
 "cells": [
  {
   "cell_type": "code",
   "execution_count": 1,
   "id": "10117d48",
   "metadata": {},
   "outputs": [
    {
     "name": "stdout",
     "output_type": "stream",
     "text": [
      "Defaulting to user installation because normal site-packages is not writeable\n",
      "Requirement already satisfied: xlsxwriter in c:\\users\\adnan\\appdata\\roaming\\python\\python311\\site-packages (3.2.2)\n",
      "XlsxWriter is installed and working!\n"
     ]
    }
   ],
   "source": [
    "!C:\\ProgramData\\anaconda3\\python.exe -m pip install xlsxwriter\n"
   ]
  },
  {
   "cell_type": "code",
   "execution_count": 2,
   "id": "dc061ba2",
   "metadata": {},
   "outputs": [
    {
     "name": "stdout",
     "output_type": "stream",
     "text": [
      "Data has been successfully saved to C:\\Users\\ADNAN\\Downloads\\SalesData_Segmented.xlsx\n"
     ]
    }
   ],
   "source": [
    "import pandas as pd\n",
    "\n",
    "# Load the CSV file\n",
    "df = pd.read_csv(\"C:\\\\Users\\\\ADNAN\\\\Downloads\\\\SalesData.csv\")\n",
    "\n",
    "# Define column groups\n",
    "customer_columns = ['Customer ID', 'Customer Name', 'Customer Segment']\n",
    "product_columns = ['Product Category', 'Product Sub-Category', 'Product Container', \n",
    "                   'Product Name', 'Product Base Margin']\n",
    "order_columns = ['Order Priority', 'Order Date', 'Ship Date', 'Ship Mode', \n",
    "                 'Region', 'Country', 'State or Province', 'City', 'Postal Code', 'Order ID']\n",
    "sales_columns = ['Discount', 'Unit Price', 'Shipping Cost', 'Profit', \n",
    "                 'Quantity ordered new', 'Sales']\n",
    "\n",
    "# Create segmented DataFrames\n",
    "df_customer = df[customer_columns]\n",
    "df_product = df[product_columns]\n",
    "df_order = df[order_columns]\n",
    "df_sales = df[sales_columns]\n",
    "\n",
    "# Define the output Excel file path\n",
    "output_file = \"C:\\\\Users\\\\ADNAN\\\\Downloads\\\\SalesData_Segmented.xlsx\"\n",
    "\n",
    "# Save the DataFrames into separate sheets in an Excel file\n",
    "with pd.ExcelWriter(output_file, engine=\"xlsxwriter\") as writer:\n",
    "    df_customer.to_excel(writer, sheet_name=\"Customers\", index=False)\n",
    "    df_product.to_excel(writer, sheet_name=\"Products\", index=False)\n",
    "    df_order.to_excel(writer, sheet_name=\"Orders\", index=False)\n",
    "    df_sales.to_excel(writer, sheet_name=\"Sales\", index=False)\n",
    "\n",
    "print(f\"Data has been successfully saved to {output_file}\")\n"
   ]
  },
  {
   "cell_type": "code",
   "execution_count": null,
   "id": "1b18c641",
   "metadata": {},
   "outputs": [],
   "source": []
  }
 ],
 "metadata": {
  "kernelspec": {
   "display_name": "Python 3 (ipykernel)",
   "language": "python",
   "name": "python3"
  },
  "language_info": {
   "codemirror_mode": {
    "name": "ipython",
    "version": 3
   },
   "file_extension": ".py",
   "mimetype": "text/x-python",
   "name": "python",
   "nbconvert_exporter": "python",
   "pygments_lexer": "ipython3",
   "version": "3.11.5"
  }
 },
 "nbformat": 4,
 "nbformat_minor": 5
}
